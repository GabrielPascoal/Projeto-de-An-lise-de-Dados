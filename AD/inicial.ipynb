version https://git-lfs.github.com/spec/v1
oid sha256:a4838be815d954b842b26af80c30f541ec61572f4619ab9acb07e534916bcf8e
size 122431796
